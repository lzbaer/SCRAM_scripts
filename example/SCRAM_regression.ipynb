{
 "cells": [
  {
   "cell_type": "code",
   "execution_count": 1,
   "id": "0cba51af-3d10-48da-807c-307663319869",
   "metadata": {},
   "outputs": [
    {
     "name": "stdout",
     "output_type": "stream",
     "text": [
      "[[1.00000e+00 1.92000e+05 1.50000e+01 1.80000e+06 5.80000e+03 5.00000e+01]\n",
      " [1.00000e+00 1.90400e+05 1.50000e+01 1.79000e+06 6.20000e+03 5.00000e+01]\n",
      " [1.00000e+00 1.91200e+05 1.50000e+01 1.78000e+06 6.40000e+03 6.00000e+01]\n",
      " [1.00000e+00 1.77600e+05 2.50000e+01 1.77800e+06 6.50000e+03 6.00000e+01]\n",
      " [1.00000e+00 1.76800e+05 2.50000e+01 1.75000e+06 6.55000e+03 6.00000e+01]\n",
      " [1.00000e+00 1.78400e+05 2.50000e+01 1.74000e+06 6.58000e+03 7.00000e+01]\n",
      " [1.00000e+00 1.80800e+05 2.50000e+01 1.72500e+06 8.20000e+03 7.50000e+01]\n",
      " [1.00000e+00 1.75200e+05 3.00000e+01 1.72500e+06 8.60000e+03 7.50000e+01]\n",
      " [1.00000e+00 1.74400e+05 3.00000e+01 1.72000e+06 8.80000e+03 7.50000e+01]\n",
      " [1.00000e+00 1.73920e+05 3.00000e+01 1.70500e+06 9.20000e+03 8.00000e+01]\n",
      " [1.00000e+00 1.72800e+05 3.00000e+01 1.71000e+06 9.63000e+03 8.00000e+01]\n",
      " [1.00000e+00 1.63200e+05 4.00000e+01 1.70000e+06 1.05700e+04 8.00000e+01]\n",
      " [1.00000e+00 1.61600e+05 4.00000e+01 1.69500e+06 1.13300e+04 8.50000e+01]\n",
      " [1.00000e+00 1.61600e+05 4.00000e+01 1.69500e+06 1.16000e+04 1.00000e+02]\n",
      " [1.00000e+00 1.60800e+05 4.00000e+01 1.69000e+06 1.18000e+04 1.05000e+02]\n",
      " [1.00000e+00 1.59200e+05 4.00000e+01 1.63000e+06 1.18300e+04 1.05000e+02]\n",
      " [1.00000e+00 1.48800e+05 6.50000e+01 1.64000e+06 1.26500e+04 1.05000e+02]\n",
      " [1.00000e+00 1.15696e+05 1.02000e+02 1.63500e+06 1.30000e+04 1.10000e+02]\n",
      " [1.00000e+00 1.47200e+05 7.50000e+01 1.63000e+06 1.32240e+04 1.25000e+02]\n",
      " [1.00000e+00 1.50400e+05 7.50000e+01 1.62000e+06 1.37660e+04 1.30000e+02]\n",
      " [1.00000e+00 1.52000e+05 7.50000e+01 1.61500e+06 1.40100e+04 1.50000e+02]\n",
      " [1.00000e+00 1.36000e+05 8.00000e+01 1.60500e+06 1.44680e+04 1.55000e+02]\n",
      " [1.00000e+00 1.26240e+05 8.60000e+01 1.59000e+06 1.50000e+04 1.65000e+02]\n",
      " [1.00000e+00 1.23888e+05 9.80000e+01 1.59500e+06 1.52000e+04 1.75000e+02]\n",
      " [1.00000e+00 1.26080e+05 8.70000e+01 1.59000e+06 1.56000e+04 1.75000e+02]\n",
      " [1.00000e+00 1.51680e+05 7.70000e+01 1.60000e+06 1.60000e+04 1.90000e+02]\n",
      " [1.00000e+00 1.52800e+05 6.30000e+01 1.61000e+06 1.62000e+04 2.00000e+02]]\n"
     ]
    }
   ],
   "source": [
    "# Ingest test data\n",
    "import numpy as np\n",
    "\n",
    "# Example CSV file path (use your own file path)\n",
    "file_path = './transportation_test_data.csv'\n",
    "\n",
    "# Use np.genfromtxt to read the CSV file and skip the first two header rows\n",
    "matrix = np.genfromtxt(file_path, delimiter=',', skip_header=2)\n",
    "\n",
    "# Replace city label (1st column) with column of 1s (for intercept \\beta_0)\n",
    "matrix[:, 0] = 1\n",
    "\n",
    "print(matrix)"
   ]
  },
  {
   "cell_type": "code",
   "execution_count": 2,
   "id": "18a954a6-6969-4b85-ae24-de8161323617",
   "metadata": {},
   "outputs": [],
   "source": [
    "###  Basic regression in cleartext ###\n",
    "def basic_regression(matrix):\n",
    "    # Extract the second column (index 1) and save it to a separate array\n",
    "    Y = matrix[:, 1]\n",
    "\n",
    "    # Remove the second column from the original matrix\n",
    "    X = np.delete(matrix, 1, axis=1)\n",
    "\n",
    "    # Compute X^T X\n",
    "    XT_X = np.dot(X.T, X)\n",
    "\n",
    "    # Compute the inverse of X^T X\n",
    "    XT_X_inv = np.linalg.inv(XT_X)\n",
    "\n",
    "    # Compute X^T Y\n",
    "    XT_Y = np.dot(X.T, Y)\n",
    "    \n",
    "    # print(\"XT_X:\", XT_X)\n",
    "    # print(\"XT_Y:\", XT_X)\n",
    "    # print(\"XT_X_inv:\", XT_X_inv)\n",
    "\n",
    "    # Compute beta = (X^T X)^-1 X^T Y\n",
    "    beta = np.dot(XT_X_inv, XT_Y)\n",
    "    return beta"
   ]
  },
  {
   "cell_type": "code",
   "execution_count": 3,
   "id": "53c110d4-e725-4263-b788-c7d77ec65969",
   "metadata": {},
   "outputs": [],
   "source": [
    "###  Basic regression under SCRAM ###\n",
    "\n",
    "def scram_postprocess(XT_X, XT_Y):\n",
    "    # happens in cleartext\n",
    "\n",
    "    # Compute the inverse of X^T X\n",
    "    XT_X_inv = np.linalg.inv(XT_X)\n",
    "    \n",
    "    # Compute beta = (X^T X)^-1 X^T Y\n",
    "    beta = np.dot(XT_X_inv, XT_Y)\n",
    "\n",
    "    # print(\"XT_X_inv:\", XT_X_inv)\n",
    "    # print(\"Beta:\", beta)\n",
    "    return beta\n",
    "    \n",
    "\n",
    "def scram_combine(processed):\n",
    "    # Compute under encryption\n",
    "    X, Y, XT_X, XT_Y = processed[0]\n",
    "\n",
    "    for i, (x, y, xT_x, xT_y) in enumerate(processed[1:]):\n",
    "        X = np.vstack([X, x])\n",
    "        Y = np.vstack([Y, y])\n",
    "        XT_X += xT_x\n",
    "        XT_Y += xT_y\n",
    "\n",
    "    # Reveal XT_X, XT_Y\n",
    "    # print(\"XT_X:\", XT_X)\n",
    "    # print(\"XT_Y:\", XT_X)\n",
    "    return (XT_X, XT_Y)\n",
    "\n",
    "def scram_preprocessing(firm_inputs):\n",
    "    processed = []\n",
    "    for i, m in enumerate(firm_inputs):\n",
    "        # Extract the second column (index 1) and save it to a separate array\n",
    "        y = m[:, 1]\n",
    "        # Remove the second column from the original matrix\n",
    "        x = np.delete(m, 1, axis=1)\n",
    "\n",
    "        # Compute X^T X\n",
    "        xT_x = np.dot(x.T, x)\n",
    "\n",
    "        # Compute X^T Y\n",
    "        xT_y = np.dot(x.T, y)\n",
    "\n",
    "        processed.append((x, y, xT_x, xT_y))\n",
    "    \n",
    "    return processed\n",
    "\n",
    "def scram_regression(matrix):\n",
    "    firm_inputs = []\n",
    "    # Loop through each row in the matrix\n",
    "    for row in matrix:\n",
    "        # Reshape each row to a 2D matrix (1 row, multiple columns)\n",
    "        row_matrix = row.reshape(1, -1)\n",
    "        firm_inputs.append(row_matrix)\n",
    "\n",
    "    processed = scram_preprocessing(firm_inputs)\n",
    "    (XT_X, XT_Y) = scram_combine(processed)\n",
    "    return scram_postprocess(XT_X, XT_Y)\n"
   ]
  },
  {
   "cell_type": "code",
   "execution_count": 4,
   "id": "2d4b1221-6dee-4f0c-b7ce-77bc67c7fc57",
   "metadata": {},
   "outputs": [
    {
     "name": "stdout",
     "output_type": "stream",
     "text": [
      "Beta (computed in the clear): [ 1.00222561e+05 -6.89522723e+02  5.49412800e-02 -1.30136687e+00\n",
      "  1.52456367e+02]\n",
      "Beta (computed under scram): [ 1.00222561e+05 -6.89522723e+02  5.49412800e-02 -1.30136687e+00\n",
      "  1.52456367e+02]\n"
     ]
    }
   ],
   "source": [
    "# comparison\n",
    "beta_clear = basic_regression(matrix)\n",
    "print(\"Beta (computed in the clear):\", beta_clear)\n",
    "beta_scram = scram_regression(matrix)\n",
    "print(\"Beta (computed under scram):\", beta_scram)"
   ]
  },
  {
   "cell_type": "code",
   "execution_count": null,
   "id": "de5e2aa4-1bd5-406d-89bb-d577f3c1b882",
   "metadata": {},
   "outputs": [],
   "source": []
  }
 ],
 "metadata": {
  "kernelspec": {
   "display_name": "api302",
   "language": "python",
   "name": "api302"
  },
  "language_info": {
   "codemirror_mode": {
    "name": "ipython",
    "version": 3
   },
   "file_extension": ".py",
   "mimetype": "text/x-python",
   "name": "python",
   "nbconvert_exporter": "python",
   "pygments_lexer": "ipython3",
   "version": "3.11.6"
  }
 },
 "nbformat": 4,
 "nbformat_minor": 5
}
