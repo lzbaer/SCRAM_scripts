{
 "cells": [
  {
   "cell_type": "code",
   "execution_count": 29,
   "id": "157d21b5-8503-41ea-a09d-80be11a1872b",
   "metadata": {},
   "outputs": [
    {
     "name": "stdout",
     "output_type": "stream",
     "text": [
      "Warning: Looks like you're using an outdated `kagglehub` version (installed: 0.3.8), please consider upgrading to the latest version (0.3.12).\n"
     ]
    }
   ],
   "source": [
    "import kagglehub\n",
    "\n",
    "# Download latest version\n",
    "path = kagglehub.dataset_download(\"Microsoft/microsoft-security-incident-prediction\")\n",
    "# print(\"Path to dataset files:\", path)"
   ]
  },
  {
   "cell_type": "code",
   "execution_count": 31,
   "id": "3ccf6d4d-be28-418c-b0c1-c9f56bcc5e72",
   "metadata": {},
   "outputs": [
    {
     "name": "stdout",
     "output_type": "stream",
     "text": [
      "['Execution Prevention', 'Behavior Prevention on Endpoint', 'Privileged Account Management', 'Disable or Remove Feature or Program', 'User Training', 'Restrict Web-Based Content', 'Software Configuration', 'Pre-compromise', 'Antivirus/Antimalware', 'Exploit Protection', 'Network Intrusion Prevention', 'Data Backup', 'Code Signing', 'Operating System Configuration', 'Restrict File and Directory Permissions']\n"
     ]
    }
   ],
   "source": [
    "# Read aggregate file from money movement threat actors\n",
    "import json\n",
    "\n",
    "# Open the JSON file and load its contents\n",
    "with open('./aggregate_all.json', 'r') as file:\n",
    "    json_data = json.load(file)\n",
    "\n",
    "agg_data = dict()\n",
    "for (k, v) in json_data[\"Techniques\"].items():\n",
    "    tid = v[\"id\"]\n",
    "    agg_data[tid] = {\"count\": v[\"count\"], \"name\": k}\n",
    "\n",
    "agg_mit = dict()\n",
    "for (k, v) in json_data[\"Mitigations\"].items():\n",
    "    agg_mit[k] = {\"count\": v[\"count\"]}\n",
    "\n",
    "# Now 'data' is a Python dictionary (or list, depending on the JSON structure)\n",
    "top_15 = list(agg_mit.keys())[:15]\n",
    "print(top_15)"
   ]
  },
  {
   "cell_type": "code",
   "execution_count": 32,
   "id": "b660e5e4-7539-4a49-bcca-11147b546ce0",
   "metadata": {},
   "outputs": [
    {
     "name": "stdout",
     "output_type": "stream",
     "text": [
      "{'T1588': {'count': 2, 'name': 'Obtain Capabilities'}, 'T1588.002': {'count': 0, 'name': 'Tool'}, 'T1566': {'count': 474121, 'name': 'Phishing'}, 'T1566.001': {'count': 39127, 'name': 'Spearphishing Attachment'}, 'T1204': {'count': 2902, 'name': 'User Execution'}, 'T1204.002': {'count': 1445, 'name': 'Malicious File'}, 'T1543': {'count': 2317, 'name': 'Create or Modify System Process'}, 'T1543.003': {'count': 2317, 'name': 'Windows Service'}, 'T1027': {'count': 1185, 'name': 'Obfuscated Files or Information'}, 'T1218': {'count': 790, 'name': 'System Binary Proxy Execution'}, 'T1059': {'count': 5850, 'name': 'Command and Scripting Interpreter'}, 'T1059.001': {'count': 4261, 'name': 'PowerShell'}, 'T1059.003': {'count': 951, 'name': 'Windows Command Shell'}, 'T1059.005': {'count': 612, 'name': 'Visual Basic'}, 'T1053': {'count': 316, 'name': 'Scheduled Task/Job'}, 'T1053.005': {'count': 225, 'name': 'Scheduled Task'}, 'T1562': {'count': 280, 'name': 'Impair Defenses'}, 'T1562.004': {'count': 16, 'name': 'Disable or Modify System Firewall'}, 'T1070': {'count': 118, 'name': 'Indicator Removal'}, 'T1070.004': {'count': 30, 'name': 'File Deletion'}, 'T1218.011': {'count': 311, 'name': 'Rundll32'}, 'T1071': {'count': 1616, 'name': 'Application Layer Protocol'}, 'T1071.001': {'count': 724, 'name': 'Web Protocols'}, 'T1587.001': {'count': 0, 'name': 'Malware'}, 'T1566.002': {'count': 292842, 'name': 'Spearphishing Link'}, 'T1204.001': {'count': 886, 'name': 'Malicious Link'}, 'T1505': {'count': 51, 'name': 'Server Software Component'}, 'T1547': {'count': 657, 'name': 'Boot or Logon Autostart Execution'}, 'T1547.001': {'count': 627, 'name': 'Registry Run Keys / Startup Folder'}, 'T1070.006': {'count': 0, 'name': 'Timestomp'}, 'T1027.002': {'count': 315, 'name': 'Software Packing'}, 'T1218.010': {'count': 88, 'name': 'Regsvr32'}, 'T1036': {'count': 1427, 'name': 'Masquerading'}, 'T1036.004': {'count': 720, 'name': 'Masquerade Task or Service'}, 'T1036.005': {'count': 20, 'name': 'Match Legitimate Name or Location'}, 'T1056': {'count': 175, 'name': 'Input Capture'}, 'T1056.001': {'count': 159, 'name': 'Keylogging'}, 'T1518': {'count': 195, 'name': 'Software Discovery'}, 'T1518.001': {'count': 181, 'name': 'Security Software Discovery'}, 'T1021': {'count': 3676, 'name': 'Remote Services'}, 'T1021.001': {'count': 152, 'name': 'Remote Desktop Protocol'}, 'T1573': {'count': 0, 'name': 'Encrypted Channel'}, 'T1102': {'count': 369, 'name': 'Web Service'}, 'T1102.002': {'count': 0, 'name': 'Bidirectional Communication'}, 'T1561': {'count': 0, 'name': 'Disk Wipe'}, 'T1561.002': {'count': 0, 'name': 'Disk Structure Wipe'}, 'T1589': {'count': 538, 'name': 'Gather Victim Identity Information'}, 'T1589.002': {'count': 0, 'name': 'Email Addresses'}, 'T1591': {'count': 0, 'name': 'Gather Victim Org Information'}, 'T1591.004': {'count': 0, 'name': 'Identify Roles'}, 'T1593': {'count': 0, 'name': 'Search Open Websites/Domains'}, 'T1593.001': {'count': 0, 'name': 'Social Media'}, 'T1592': {'count': 0, 'name': 'Gather Victim Host Information'}, 'T1592.002': {'count': 0, 'name': 'Software'}, 'T1590': {'count': 0, 'name': 'Gather Victim Network Information'}, 'T1590.005': {'count': 0, 'name': 'IP Addresses'}, 'T1583': {'count': 0, 'name': 'Acquire Infrastructure'}, 'T1583.001': {'count': 0, 'name': 'Domains'}, 'T1583.004': {'count': 0, 'name': 'Server'}, 'T1583.006': {'count': 0, 'name': 'Web Services'}, 'T1584': {'count': 628, 'name': 'Compromise Infrastructure'}, 'T1587': {'count': 0, 'name': 'Develop Capabilities'}, 'T1587.002': {'count': 0, 'name': 'Code Signing Certificates'}, 'T1585': {'count': 2, 'name': 'Establish Accounts'}, 'T1585.001': {'count': 0, 'name': 'Social Media Accounts'}, 'T1585.002': {'count': 0, 'name': 'Email Accounts'}, 'T1588.004': {'count': 0, 'name': 'Digital Certificates'}, 'T1608': {'count': 0, 'name': 'Stage Capabilities'}, 'T1608.001': {'count': 0, 'name': 'Upload Malware'}, 'T1608.002': {'count': 0, 'name': 'Upload Tool'}, 'T1195': {'count': 0, 'name': 'Supply Chain Compromise'}, 'T1195.002': {'count': 0, 'name': 'Compromise Software Supply Chain'}, 'T1566.003': {'count': 161, 'name': 'Spearphishing via Service'}, 'T1053.003': {'count': 0, 'name': 'Cron'}, 'T1569': {'count': 2662, 'name': 'System Services'}, 'T1569.002': {'count': 2630, 'name': 'Service Execution'}, 'T1059.007': {'count': 794, 'name': 'JavaScript'}, 'T1559': {'count': 1794, 'name': 'Inter-Process Communication'}, 'T1559.002': {'count': 0, 'name': 'Dynamic Data Exchange'}, 'T1505.003': {'count': 51, 'name': 'Web Shell'}, 'T1037': {'count': 10, 'name': 'Boot or Logon Initialization Scripts'}, 'T1037.001': {'count': 10, 'name': 'Logon Script (Windows)'}, 'T1547.009': {'count': 30, 'name': 'Shortcut Modification'}, 'T1574': {'count': 784, 'name': 'Hijack Execution Flow'}, 'T1574.002': {'count': 49, 'name': 'DLL Side-Loading'}, 'T1574.013': {'count': 0, 'name': 'KernelCallbackTable'}, 'T1542': {'count': 32, 'name': 'Pre-OS Boot'}, 'T1542.003': {'count': 0, 'name': 'Bootkit'}, 'T1505.004': {'count': 0, 'name': 'IIS Components'}, 'T1548': {'count': 503, 'name': 'Abuse Elevation Control Mechanism'}, 'T1548.002': {'count': 8, 'name': 'Bypass User Account Control'}, 'T1134': {'count': 37, 'name': 'Access Token Manipulation'}, 'T1134.002': {'count': 0, 'name': 'Create Process with Token'}, 'T1055': {'count': 882, 'name': 'Process Injection'}, 'T1055.001': {'count': 733, 'name': 'Dynamic-link Library Injection'}, 'T1562.003': {'count': 0, 'name': 'Impair Command History Logging'}, 'T1070.001': {'count': 10, 'name': 'Clear Windows Event Logs'}, 'T1218.001': {'count': 19, 'name': 'Compiled HTML File'}, 'T1027.010': {'count': 0, 'name': 'Command Obfuscation'}, 'T1218.003': {'count': 54, 'name': 'CMSTP'}, 'T1218.008': {'count': 0, 'name': 'Odbcconf'}, 'T1564': {'count': 972, 'name': 'Hide Artifacts'}, 'T1564.001': {'count': 0, 'name': 'Hidden Files and Directories'}, 'T1562.001': {'count': 216, 'name': 'Disable or Modify Tools'}, 'T1070.003': {'count': 0, 'name': 'Clear Command History'}, 'T1036.003': {'count': 79, 'name': 'Rename System Utilities'}, 'T1036.008': {'count': 0, 'name': 'Masquerade File Type'}, 'T1027.007': {'count': 0, 'name': 'Dynamic API Resolution'}, 'T1027.013': {'count': 0, 'name': 'Encrypted/Encoded File'}, 'T1553': {'count': 32, 'name': 'Subvert Trust Controls'}, 'T1553.002': {'count': 0, 'name': 'Code Signing'}, 'T1218.005': {'count': 35, 'name': 'Mshta'}, 'T1497': {'count': 234, 'name': 'Virtualization/Sandbox Evasion'}, 'T1497.001': {'count': 202, 'name': 'System Checks'}, 'T1497.003': {'count': 0, 'name': 'Time Based Evasion'}, 'T1027.003': {'count': 123, 'name': 'Steganography'}, 'T1557': {'count': 1830, 'name': 'Adversary-in-the-Middle'}, 'T1557.001': {'count': 251, 'name': 'LLMNR/NBT-NS Poisoning and SMB Relay'}, 'T1110': {'count': 101449, 'name': 'Brute Force'}, 'T1110.003': {'count': 88331, 'name': 'Password Spraying'}, 'T1087': {'count': 9592, 'name': 'Account Discovery'}, 'T1087.002': {'count': 9119, 'name': 'Domain Account'}, 'T1614': {'count': 4, 'name': 'System Location Discovery'}, 'T1614.001': {'count': 4, 'name': 'System Language Discovery'}, 'T1021.002': {'count': 1352, 'name': 'SMB/Windows Admin Shares'}, 'T1021.004': {'count': 383, 'name': 'SSH'}, 'T1560': {'count': 27, 'name': 'Archive Collected Data'}, 'T1560.001': {'count': 9, 'name': 'Archive via Utility'}, 'T1560.002': {'count': 0, 'name': 'Archive via Library'}, 'T1560.003': {'count': 0, 'name': 'Archive via Custom Method'}, 'T1074': {'count': 284, 'name': 'Data Staged'}, 'T1074.001': {'count': 30, 'name': 'Local Data Staging'}, 'T1071.004': {'count': 0, 'name': 'DNS'}, 'T1573.002': {'count': 0, 'name': 'Asymmetric Cryptography'}, 'T1132': {'count': 32, 'name': 'Data Encoding'}, 'T1132.001': {'count': 0, 'name': 'Standard Encoding'}, 'T1001': {'count': 32, 'name': 'Data Obfuscation'}, 'T1001.003': {'count': 0, 'name': 'Protocol Impersonation'}, 'T1573.001': {'count': 0, 'name': 'Symmetric Cryptography'}, 'T1090': {'count': 1658, 'name': 'Proxy'}, 'T1090.001': {'count': 1503, 'name': 'Internal Proxy'}, 'T1090.002': {'count': 0, 'name': 'External Proxy'}, 'T1048': {'count': 98, 'name': 'Exfiltration Over Alternative Protocol'}, 'T1048.003': {'count': 12, 'name': 'Exfiltration Over Unencrypted Non-C2 Protocol'}, 'T1567': {'count': 35, 'name': 'Exfiltration Over Web Service'}, 'T1567.002': {'count': 21, 'name': 'Exfiltration to Cloud Storage'}, 'T1565': {'count': 0, 'name': 'Data Manipulation'}, 'T1565.001': {'count': 0, 'name': 'Stored Data Manipulation'}, 'T1565.002': {'count': 0, 'name': 'Transmitted Data Manipulation'}, 'T1565.003': {'count': 0, 'name': 'Runtime Data Manipulation'}, 'T1491': {'count': 0, 'name': 'Defacement'}, 'T1491.001': {'count': 0, 'name': 'Internal Defacement'}, 'T1561.001': {'count': 0, 'name': 'Disk Content Wipe'}}\n",
      "{'T1588': {'count': 0, 'name': 'Obtain Capabilities'}, 'T1588.002': {'count': 0, 'name': 'Tool'}, 'T1566': {'count': 206695, 'name': 'Phishing'}, 'T1566.001': {'count': 15830, 'name': 'Spearphishing Attachment'}, 'T1204': {'count': 1396, 'name': 'User Execution'}, 'T1204.002': {'count': 821, 'name': 'Malicious File'}, 'T1543': {'count': 889, 'name': 'Create or Modify System Process'}, 'T1543.003': {'count': 889, 'name': 'Windows Service'}, 'T1027': {'count': 756, 'name': 'Obfuscated Files or Information'}, 'T1218': {'count': 249, 'name': 'System Binary Proxy Execution'}, 'T1059': {'count': 1616, 'name': 'Command and Scripting Interpreter'}, 'T1059.001': {'count': 992, 'name': 'PowerShell'}, 'T1059.003': {'count': 379, 'name': 'Windows Command Shell'}, 'T1059.005': {'count': 215, 'name': 'Visual Basic'}, 'T1053': {'count': 179, 'name': 'Scheduled Task/Job'}, 'T1053.005': {'count': 119, 'name': 'Scheduled Task'}, 'T1562': {'count': 99, 'name': 'Impair Defenses'}, 'T1562.004': {'count': 0, 'name': 'Disable or Modify System Firewall'}, 'T1070': {'count': 78, 'name': 'Indicator Removal'}, 'T1070.004': {'count': 9, 'name': 'File Deletion'}, 'T1218.011': {'count': 78, 'name': 'Rundll32'}, 'T1071': {'count': 506, 'name': 'Application Layer Protocol'}, 'T1071.001': {'count': 316, 'name': 'Web Protocols'}, 'T1587.001': {'count': 0, 'name': 'Malware'}, 'T1566.002': {'count': 128154, 'name': 'Spearphishing Link'}, 'T1204.001': {'count': 369, 'name': 'Malicious Link'}, 'T1505': {'count': 4, 'name': 'Server Software Component'}, 'T1547': {'count': 323, 'name': 'Boot or Logon Autostart Execution'}, 'T1547.001': {'count': 287, 'name': 'Registry Run Keys / Startup Folder'}, 'T1070.006': {'count': 0, 'name': 'Timestomp'}, 'T1027.002': {'count': 316, 'name': 'Software Packing'}, 'T1218.010': {'count': 19, 'name': 'Regsvr32'}, 'T1036': {'count': 788, 'name': 'Masquerading'}, 'T1036.004': {'count': 420, 'name': 'Masquerade Task or Service'}, 'T1036.005': {'count': 12, 'name': 'Match Legitimate Name or Location'}, 'T1056': {'count': 13, 'name': 'Input Capture'}, 'T1056.001': {'count': 13, 'name': 'Keylogging'}, 'T1518': {'count': 39, 'name': 'Software Discovery'}, 'T1518.001': {'count': 27, 'name': 'Security Software Discovery'}, 'T1021': {'count': 2014, 'name': 'Remote Services'}, 'T1021.001': {'count': 115, 'name': 'Remote Desktop Protocol'}, 'T1573': {'count': 0, 'name': 'Encrypted Channel'}, 'T1102': {'count': 135, 'name': 'Web Service'}, 'T1102.002': {'count': 0, 'name': 'Bidirectional Communication'}, 'T1561': {'count': 0, 'name': 'Disk Wipe'}, 'T1561.002': {'count': 0, 'name': 'Disk Structure Wipe'}, 'T1589': {'count': 261, 'name': 'Gather Victim Identity Information'}, 'T1589.002': {'count': 0, 'name': 'Email Addresses'}, 'T1591': {'count': 0, 'name': 'Gather Victim Org Information'}, 'T1591.004': {'count': 0, 'name': 'Identify Roles'}, 'T1593': {'count': 0, 'name': 'Search Open Websites/Domains'}, 'T1593.001': {'count': 0, 'name': 'Social Media'}, 'T1592': {'count': 0, 'name': 'Gather Victim Host Information'}, 'T1592.002': {'count': 0, 'name': 'Software'}, 'T1590': {'count': 4, 'name': 'Gather Victim Network Information'}, 'T1590.005': {'count': 0, 'name': 'IP Addresses'}, 'T1583': {'count': 0, 'name': 'Acquire Infrastructure'}, 'T1583.001': {'count': 0, 'name': 'Domains'}, 'T1583.004': {'count': 0, 'name': 'Server'}, 'T1583.006': {'count': 0, 'name': 'Web Services'}, 'T1584': {'count': 245, 'name': 'Compromise Infrastructure'}, 'T1587': {'count': 0, 'name': 'Develop Capabilities'}, 'T1587.002': {'count': 0, 'name': 'Code Signing Certificates'}, 'T1585': {'count': 0, 'name': 'Establish Accounts'}, 'T1585.001': {'count': 0, 'name': 'Social Media Accounts'}, 'T1585.002': {'count': 0, 'name': 'Email Accounts'}, 'T1588.004': {'count': 0, 'name': 'Digital Certificates'}, 'T1608': {'count': 0, 'name': 'Stage Capabilities'}, 'T1608.001': {'count': 0, 'name': 'Upload Malware'}, 'T1608.002': {'count': 0, 'name': 'Upload Tool'}, 'T1195': {'count': 0, 'name': 'Supply Chain Compromise'}, 'T1195.002': {'count': 0, 'name': 'Compromise Software Supply Chain'}, 'T1566.003': {'count': 75, 'name': 'Spearphishing via Service'}, 'T1053.003': {'count': 0, 'name': 'Cron'}, 'T1569': {'count': 890, 'name': 'System Services'}, 'T1569.002': {'count': 865, 'name': 'Service Execution'}, 'T1059.007': {'count': 315, 'name': 'JavaScript'}, 'T1559': {'count': 659, 'name': 'Inter-Process Communication'}, 'T1559.002': {'count': 6, 'name': 'Dynamic Data Exchange'}, 'T1505.003': {'count': 4, 'name': 'Web Shell'}, 'T1037': {'count': 0, 'name': 'Boot or Logon Initialization Scripts'}, 'T1037.001': {'count': 0, 'name': 'Logon Script (Windows)'}, 'T1547.009': {'count': 36, 'name': 'Shortcut Modification'}, 'T1574': {'count': 459, 'name': 'Hijack Execution Flow'}, 'T1574.002': {'count': 16, 'name': 'DLL Side-Loading'}, 'T1574.013': {'count': 0, 'name': 'KernelCallbackTable'}, 'T1542': {'count': 25, 'name': 'Pre-OS Boot'}, 'T1542.003': {'count': 0, 'name': 'Bootkit'}, 'T1505.004': {'count': 0, 'name': 'IIS Components'}, 'T1548': {'count': 141, 'name': 'Abuse Elevation Control Mechanism'}, 'T1548.002': {'count': 0, 'name': 'Bypass User Account Control'}, 'T1134': {'count': 25, 'name': 'Access Token Manipulation'}, 'T1134.002': {'count': 0, 'name': 'Create Process with Token'}, 'T1055': {'count': 246, 'name': 'Process Injection'}, 'T1055.001': {'count': 177, 'name': 'Dynamic-link Library Injection'}, 'T1562.003': {'count': 0, 'name': 'Impair Command History Logging'}, 'T1070.001': {'count': 17, 'name': 'Clear Windows Event Logs'}, 'T1218.001': {'count': 0, 'name': 'Compiled HTML File'}, 'T1027.010': {'count': 0, 'name': 'Command Obfuscation'}, 'T1218.003': {'count': 8, 'name': 'CMSTP'}, 'T1218.008': {'count': 0, 'name': 'Odbcconf'}, 'T1564': {'count': 366, 'name': 'Hide Artifacts'}, 'T1564.001': {'count': 0, 'name': 'Hidden Files and Directories'}, 'T1562.001': {'count': 67, 'name': 'Disable or Modify Tools'}, 'T1070.003': {'count': 0, 'name': 'Clear Command History'}, 'T1036.003': {'count': 22, 'name': 'Rename System Utilities'}, 'T1036.008': {'count': 0, 'name': 'Masquerade File Type'}, 'T1027.007': {'count': 0, 'name': 'Dynamic API Resolution'}, 'T1027.013': {'count': 0, 'name': 'Encrypted/Encoded File'}, 'T1553': {'count': 25, 'name': 'Subvert Trust Controls'}, 'T1553.002': {'count': 0, 'name': 'Code Signing'}, 'T1218.005': {'count': 8, 'name': 'Mshta'}, 'T1497': {'count': 89, 'name': 'Virtualization/Sandbox Evasion'}, 'T1497.001': {'count': 64, 'name': 'System Checks'}, 'T1497.003': {'count': 0, 'name': 'Time Based Evasion'}, 'T1027.003': {'count': 65, 'name': 'Steganography'}, 'T1557': {'count': 652, 'name': 'Adversary-in-the-Middle'}, 'T1557.001': {'count': 50, 'name': 'LLMNR/NBT-NS Poisoning and SMB Relay'}, 'T1110': {'count': 51986, 'name': 'Brute Force'}, 'T1110.003': {'count': 45877, 'name': 'Password Spraying'}, 'T1087': {'count': 3720, 'name': 'Account Discovery'}, 'T1087.002': {'count': 3612, 'name': 'Domain Account'}, 'T1614': {'count': 4, 'name': 'System Location Discovery'}, 'T1614.001': {'count': 4, 'name': 'System Language Discovery'}, 'T1021.002': {'count': 1394, 'name': 'SMB/Windows Admin Shares'}, 'T1021.004': {'count': 214, 'name': 'SSH'}, 'T1560': {'count': 54, 'name': 'Archive Collected Data'}, 'T1560.001': {'count': 0, 'name': 'Archive via Utility'}, 'T1560.002': {'count': 0, 'name': 'Archive via Library'}, 'T1560.003': {'count': 0, 'name': 'Archive via Custom Method'}, 'T1074': {'count': 176, 'name': 'Data Staged'}, 'T1074.001': {'count': 54, 'name': 'Local Data Staging'}, 'T1071.004': {'count': 0, 'name': 'DNS'}, 'T1573.002': {'count': 0, 'name': 'Asymmetric Cryptography'}, 'T1132': {'count': 25, 'name': 'Data Encoding'}, 'T1132.001': {'count': 0, 'name': 'Standard Encoding'}, 'T1001': {'count': 25, 'name': 'Data Obfuscation'}, 'T1001.003': {'count': 0, 'name': 'Protocol Impersonation'}, 'T1573.001': {'count': 0, 'name': 'Symmetric Cryptography'}, 'T1090': {'count': 339, 'name': 'Proxy'}, 'T1090.001': {'count': 281, 'name': 'Internal Proxy'}, 'T1090.002': {'count': 0, 'name': 'External Proxy'}, 'T1048': {'count': 86, 'name': 'Exfiltration Over Alternative Protocol'}, 'T1048.003': {'count': 4, 'name': 'Exfiltration Over Unencrypted Non-C2 Protocol'}, 'T1567': {'count': 39, 'name': 'Exfiltration Over Web Service'}, 'T1567.002': {'count': 11, 'name': 'Exfiltration to Cloud Storage'}, 'T1565': {'count': 0, 'name': 'Data Manipulation'}, 'T1565.001': {'count': 0, 'name': 'Stored Data Manipulation'}, 'T1565.002': {'count': 0, 'name': 'Transmitted Data Manipulation'}, 'T1565.003': {'count': 0, 'name': 'Runtime Data Manipulation'}, 'T1491': {'count': 0, 'name': 'Defacement'}, 'T1491.001': {'count': 0, 'name': 'Internal Defacement'}, 'T1561.001': {'count': 0, 'name': 'Disk Content Wipe'}}\n"
     ]
    }
   ],
   "source": [
    "import os\n",
    "train_path = os.path.join(path, \"GUIDE_Train.csv\")\n",
    "test_path = os.path.join(path, \"GUIDE_Test.csv\")\n",
    "\n",
    "train_counts = {}\n",
    "test_counts = {}\n",
    "for tech in agg_data:\n",
    "    train_counts[tech] = {\"count\": 0, \"name\": agg_data[tech][\"name\"]}\n",
    "    test_counts[tech] = {\"count\": 0, \"name\": agg_data[tech][\"name\"]}\n",
    "\n",
    "chunk_size = 10000  # Adjust depending on your available memory\n",
    "\n",
    "train_chunks = pd.read_csv(train_path, chunksize=chunk_size)\n",
    "test_chunks = pd.read_csv(test_path, chunksize=chunk_size)\n",
    "\n",
    "for (chunks, msft_counts, label) in [(train_chunks, train_counts, \"TRAIN\"), (test_chunks, test_counts, \"TEST\")]:\n",
    "    for df in chunks:\n",
    "        df['MitreTechniques'] = df['MitreTechniques'].astype('category')\n",
    "        # Filter for rows where IncidentGrade is 'TruePositive'\n",
    "        df = df[df['IncidentGrade'] == 'TruePositive']\n",
    "        # Drop rows where MitreTechniques is null\n",
    "        df = df.dropna(subset=['MitreTechniques'])\n",
    "    \n",
    "        # Filter for rows where MitreTechniques contains any value from the 'agg_data' list\n",
    "        filtered_df = df[df['MitreTechniques'].apply(lambda x: any(technique in x for technique in agg_data.keys()))]\n",
    "\n",
    "        for tech in agg_data:\n",
    "            # Create the regex pattern to match the exact technique code (e.g., T1008)\n",
    "            pattern = r'\\b' + tech + r'\\b'\n",
    "        \n",
    "            # Count rows where MitreTechniques contains 'T1008'\n",
    "            count = df['MitreTechniques'].str.contains(pattern).sum()\n",
    "            msft_counts[tech][\"count\"] += int(count)\n",
    "\n",
    "print(train_counts)\n",
    "print(test_counts)"
   ]
  },
  {
   "cell_type": "code",
   "execution_count": 33,
   "id": "1fcd8e2f-c3b4-4d7c-810b-3b5b5da025e2",
   "metadata": {
    "scrolled": true
   },
   "outputs": [
    {
     "name": "stdout",
     "output_type": "stream",
     "text": [
      "Comparing Techniques (all)\n",
      "Comparing Money Movement Actors and MSIP train\n",
      "Spearman's rank correlation: 0.4041386889684103\n",
      "P-value: 2.2111537552360217e-07\n",
      "Comparing Money Movement Actors and MSIP test\n",
      "Spearman's rank correlation: 0.41786954016056177\n",
      "P-value: 7.686738854877323e-08\n",
      "Comparing MSIP train and MSIP test\n",
      "Spearman's rank correlation: 0.3987307841797006\n",
      "P-value: 3.309608302218478e-07\n",
      "\n",
      "Comparing Techniques (TOP 15)\n",
      "Comparing Money Movement Actors and MSIP train\n",
      "Spearman's rank correlation: -0.09999999999999999\n",
      "P-value: 0.7228973252791182\n",
      "Comparing Money Movement Actors and MSIP test\n",
      "Spearman's rank correlation: -0.035714285714285705\n",
      "P-value: 0.8994469934720875\n",
      "Comparing MSIP train and MSIP test\n",
      "Spearman's rank correlation: 0.6357142857142856\n",
      "P-value: 0.0108607461687898\n"
     ]
    }
   ],
   "source": [
    "import json\n",
    "import scipy.stats as stats\n",
    "import itertools\n",
    "from collections import OrderedDict\n",
    "\n",
    "def spearmans_rank_correlation(order, label1, list1, label2, list2):\n",
    "    ranked_list1 = [order.index(x) + 1 for x in list1]\n",
    "    ranked_list2 = [order.index(x) + 1 for x in list2]\n",
    "    # print(ranked_list1)\n",
    "    # print(ranked_list2)\n",
    "\n",
    "    # Compute Spearman's rank correlation\n",
    "    correlation, p_value = stats.spearmanr(ranked_list1, ranked_list2)\n",
    "    \n",
    "    # Print the result\n",
    "    print(f\"Comparing {label1} and {label2}\")\n",
    "    print(f\"Spearman's rank correlation: {correlation}\")\n",
    "    print(f\"P-value: {p_value}\")\n",
    "\n",
    "# sort MSIP techniques by descending \n",
    "sortd = OrderedDict(sorted(train_counts.items(), key=lambda item: item[1]['count'], reverse=True))\n",
    "train_counts = sortd\n",
    "\n",
    "sortd = OrderedDict(sorted(test_counts.items(), key=lambda item: item[1]['count'], reverse=True))\n",
    "test_counts = sortd\n",
    "\n",
    "# comparing techniques (all)\n",
    "technique_order = list(agg_data.keys())\n",
    "to_compare = [(\"Money Movement Actors\", agg_data), (\"MSIP train\", train_counts), (\"MSIP test\", test_counts)]\n",
    "\n",
    "print(\"Comparing Techniques (all)\")\n",
    "\n",
    "for pair in itertools.combinations(to_compare, 2):\n",
    "    ((label1, data1), (label2, data2)) = pair\n",
    "    # Convert strings to ranks\n",
    "    list1 = list(data1.keys())\n",
    "    list2 = list(data2.keys())\n",
    "    spearmans_rank_correlation(technique_order, label1, list1, label2, list2)\n",
    "\n",
    "print(\"\\nComparing Techniques (TOP 15)\")\n",
    "TOP = 15\n",
    "for pair in itertools.combinations(to_compare, 2):\n",
    "    ((label1, data1), (label2, data2)) = pair\n",
    "    # Convert strings to ranks\n",
    "    list1 = list(data1.keys())[:TOP]\n",
    "    list2 = list(data2.keys())[:TOP]\n",
    "    spearmans_rank_correlation(technique_order, label1, list1, label2, list2)\n"
   ]
  },
  {
   "cell_type": "code",
   "execution_count": 34,
   "id": "d23aabef-acb7-4cdb-ac63-359656b36603",
   "metadata": {},
   "outputs": [
    {
     "name": "stdout",
     "output_type": "stream",
     "text": [
      "Comparing Mitigations (all)\n",
      "Comparing Money Movement Actors and MSIP train\n",
      "Spearman's rank correlation: 0.3259838786154575\n",
      "P-value: 0.04895524296243798\n",
      "Comparing Money Movement Actors and MSIP test\n",
      "Spearman's rank correlation: 0.31460407776197247\n",
      "P-value: 0.0579004463432323\n",
      "Comparing MSIP train and MSIP test\n",
      "Spearman's rank correlation: 0.6993835941204362\n",
      "P-value: 1.4651328416253839e-06\n",
      "\n",
      "Comparing Mitigations (TOP 15)\n",
      "Comparing Money Movement Actors and MSIP train\n",
      "Spearman's rank correlation: -0.28928571428571426\n",
      "P-value: 0.29566536100437785\n",
      "Comparing Money Movement Actors and MSIP test\n",
      "Spearman's rank correlation: -0.28571428571428564\n",
      "P-value: 0.3019363513225493\n",
      "Comparing MSIP train and MSIP test\n",
      "Spearman's rank correlation: 0.9964285714285712\n",
      "P-value: 2.4159793199703526e-15\n",
      "Money Movement Actors ['Execution Prevention', 'Behavior Prevention on Endpoint', 'Privileged Account Management', 'Disable or Remove Feature or Program', 'User Training', 'Restrict Web-Based Content', 'Software Configuration', 'Pre-compromise', 'Antivirus/Antimalware', 'Exploit Protection', 'Network Intrusion Prevention', 'Data Backup', 'Code Signing', 'Operating System Configuration', 'Restrict File and Directory Permissions']\n",
      "MSIP train ['Restrict Web-Based Content', 'User Training', 'Software Configuration', 'Audit', 'Antivirus/Antimalware', 'Network Intrusion Prevention', 'User Account Management', 'Multi-factor Authentication', 'Password Policies', 'Account Use Policies', 'Privileged Account Management', 'Behavior Prevention on Endpoint', 'Operating System Configuration', 'Execution Prevention', 'Disable or Remove Feature or Program']\n",
      "Money Movement Actors ['Execution Prevention', 'Behavior Prevention on Endpoint', 'Privileged Account Management', 'Disable or Remove Feature or Program', 'User Training', 'Restrict Web-Based Content', 'Software Configuration', 'Pre-compromise', 'Antivirus/Antimalware', 'Exploit Protection', 'Network Intrusion Prevention', 'Data Backup', 'Code Signing', 'Operating System Configuration', 'Restrict File and Directory Permissions']\n",
      "MSIP test ['User Training', 'Restrict Web-Based Content', 'Software Configuration', 'Audit', 'Antivirus/Antimalware', 'Network Intrusion Prevention', 'User Account Management', 'Multi-factor Authentication', 'Password Policies', 'Account Use Policies', 'Privileged Account Management', 'Behavior Prevention on Endpoint', 'Operating System Configuration', 'Execution Prevention', 'Disable or Remove Feature or Program']\n",
      "MSIP train ['Restrict Web-Based Content', 'User Training', 'Software Configuration', 'Audit', 'Antivirus/Antimalware', 'Network Intrusion Prevention', 'User Account Management', 'Multi-factor Authentication', 'Password Policies', 'Account Use Policies', 'Privileged Account Management', 'Behavior Prevention on Endpoint', 'Operating System Configuration', 'Execution Prevention', 'Disable or Remove Feature or Program']\n",
      "MSIP test ['User Training', 'Restrict Web-Based Content', 'Software Configuration', 'Audit', 'Antivirus/Antimalware', 'Network Intrusion Prevention', 'User Account Management', 'Multi-factor Authentication', 'Password Policies', 'Account Use Policies', 'Privileged Account Management', 'Behavior Prevention on Endpoint', 'Operating System Configuration', 'Execution Prevention', 'Disable or Remove Feature or Program']\n"
     ]
    }
   ],
   "source": [
    "with open(\"./microsoft-security-incident-prediction_v1/train_mit_count.json\", \"r\") as f:\n",
    "    train_mit = json.load(f)\n",
    "\n",
    "with open(\"./microsoft-security-incident-prediction_v1/test_mit_count.json\", \"r\") as f:\n",
    "    test_mit = json.load(f)\n",
    "\n",
    "sortd = OrderedDict(sorted(train_mit.items(), key=lambda item: item[1]['count'], reverse=True))\n",
    "train_mit = sortd\n",
    "\n",
    "sortd = OrderedDict(sorted(test_mit.items(), key=lambda item: item[1]['count'], reverse=True))\n",
    "test_mit = sortd\n",
    "\n",
    "# comparing mitigations (all)\n",
    "mitigation_order = list(agg_mit.keys())\n",
    "\n",
    "to_compare = [(\"Money Movement Actors\", agg_mit), (\"MSIP train\", train_mit), (\"MSIP test\", test_mit)]\n",
    "\n",
    "print(\"Comparing Mitigations (all)\")\n",
    "for pair in itertools.combinations(to_compare, 2):\n",
    "    ((label1, data1), (label2, data2)) = pair\n",
    "    # Convert strings to ranks\n",
    "    list1 = list(data1.keys())\n",
    "    list2 = list(data2.keys())\n",
    "    spearmans_rank_correlation(mitigation_order, label1, list1, label2, list2)\n",
    "\n",
    "print(\"\\nComparing Mitigations (TOP 15)\")\n",
    "TOP = 15\n",
    "for pair in itertools.combinations(to_compare, 2):\n",
    "    ((label1, data1), (label2, data2)) = pair\n",
    "    # Convert strings to ranks\n",
    "    list1 = list(data1.keys())[:TOP]\n",
    "    list2 = list(data2.keys())[:TOP]\n",
    "    spearmans_rank_correlation(mitigation_order, label1, list1, label2, list2)\n",
    "\n",
    "for pair in itertools.combinations(to_compare, 2):\n",
    "    ((label1, data1), (label2, data2)) = pair\n",
    "    list1 = list(data1.keys())[:TOP]\n",
    "    list2 = list(data2.keys())[:TOP]\n",
    "    print(label1, list1)\n",
    "    print(label2, list2)\n"
   ]
  },
  {
   "cell_type": "code",
   "execution_count": 35,
   "id": "5dc29e14-1199-48a9-8720-a5821803d6c1",
   "metadata": {},
   "outputs": [
    {
     "name": "stdout",
     "output_type": "stream",
     "text": [
      "153\n",
      "37\n"
     ]
    }
   ],
   "source": [
    "print(len(agg_data.keys()))\n",
    "print(len(agg_mit.keys()))"
   ]
  },
  {
   "cell_type": "code",
   "execution_count": null,
   "id": "02301b31-d319-43a5-a1a6-3b66750e6f08",
   "metadata": {},
   "outputs": [],
   "source": []
  }
 ],
 "metadata": {
  "kernelspec": {
   "display_name": "api302",
   "language": "python",
   "name": "api302"
  },
  "language_info": {
   "codemirror_mode": {
    "name": "ipython",
    "version": 3
   },
   "file_extension": ".py",
   "mimetype": "text/x-python",
   "name": "python",
   "nbconvert_exporter": "python",
   "pygments_lexer": "ipython3",
   "version": "3.11.6"
  }
 },
 "nbformat": 4,
 "nbformat_minor": 5
}
