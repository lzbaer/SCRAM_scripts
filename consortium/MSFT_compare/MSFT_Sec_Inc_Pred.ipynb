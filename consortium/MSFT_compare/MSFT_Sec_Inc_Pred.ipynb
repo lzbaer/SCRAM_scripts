{
 "cells": [
  {
   "cell_type": "code",
   "execution_count": 9,
   "id": "157d21b5-8503-41ea-a09d-80be11a1872b",
   "metadata": {},
   "outputs": [
    {
     "name": "stdout",
     "output_type": "stream",
     "text": [
      "Warning: Looks like you're using an outdated `kagglehub` version (installed: 0.3.8), please consider upgrading to the latest version (0.3.12).\n",
      "Downloading from https://www.kaggle.com/api/v1/datasets/download/Microsoft/microsoft-security-incident-prediction?dataset_version_number=1...\n"
     ]
    },
    {
     "name": "stderr",
     "output_type": "stream",
     "text": [
      "100%|█████████████████████████████████████████| 513M/513M [00:40<00:00, 13.3MB/s]"
     ]
    },
    {
     "name": "stdout",
     "output_type": "stream",
     "text": [
      "Extracting files...\n"
     ]
    },
    {
     "name": "stderr",
     "output_type": "stream",
     "text": [
      "\n"
     ]
    },
    {
     "name": "stdout",
     "output_type": "stream",
     "text": [
      "Path to dataset files: /Users/lisasgrad-sys/.cache/kagglehub/datasets/Microsoft/microsoft-security-incident-prediction/versions/1\n"
     ]
    }
   ],
   "source": [
    "import kagglehub\n",
    "\n",
    "# Download latest version\n",
    "path = kagglehub.dataset_download(\"Microsoft/microsoft-security-incident-prediction\")\n",
    "print(\"Path to dataset files:\", path)"
   ]
  },
  {
   "cell_type": "code",
   "execution_count": 10,
   "id": "3ccf6d4d-be28-418c-b0c1-c9f56bcc5e72",
   "metadata": {},
   "outputs": [
    {
     "name": "stdout",
     "output_type": "stream",
     "text": [
      "['Execution Prevention', 'Behavior Prevention on Endpoint', 'Privileged Account Management', 'Disable or Remove Feature or Program', 'User Training', 'Restrict Web-Based Content', 'Software Configuration', 'Pre-compromise', 'Antivirus/Antimalware', 'Exploit Protection', 'Network Intrusion Prevention', 'Data Backup', 'Code Signing', 'Operating System Configuration', 'Restrict File and Directory Permissions']\n"
     ]
    }
   ],
   "source": [
    "# Read aggregate file from money movement threat actors\n",
    "import json\n",
    "\n",
    "# Open the JSON file and load its contents\n",
    "with open('./aggregate_all.json', 'r') as file:\n",
    "    json_data = json.load(file)\n",
    "\n",
    "agg_data = dict()\n",
    "for (k, v) in json_data[\"Techniques\"].items():\n",
    "    tid = v[\"id\"]\n",
    "    agg_data[tid] = {\"count\": v[\"count\"], \"name\": k}\n",
    "\n",
    "agg_mit = dict()\n",
    "for (k, v) in json_data[\"Mitigations\"].items():\n",
    "    agg_mit[k] = {\"count\": v[\"count\"]}\n",
    "\n",
    "# Now 'data' is a Python dictionary (or list, depending on the JSON structure)\n",
    "top_15 = list(agg_mit.keys())[:15]\n",
    "print(top_15)"
   ]
  },
  {
   "cell_type": "code",
   "execution_count": 64,
   "id": "b660e5e4-7539-4a49-bcca-11147b546ce0",
   "metadata": {},
   "outputs": [],
   "source": [
    "import os\n",
    "import pandas as pd\n",
    "train_path = os.path.join(path, \"GUIDE_Train.csv\")\n",
    "test_path = os.path.join(path, \"GUIDE_Test.csv\")\n",
    "\n",
    "train_counts = {}\n",
    "test_counts = {}\n",
    "for tech in agg_data:\n",
    "    train_counts[tech] = {\"count\": 0, \"name\": agg_data[tech][\"name\"]}\n",
    "    test_counts[tech] = {\"count\": 0, \"name\": agg_data[tech][\"name\"]}\n",
    "\n",
    "chunk_size = 10000  # Adjust depending on your available memory\n",
    "\n",
    "train_chunks = pd.read_csv(train_path, chunksize=chunk_size)\n",
    "test_chunks = pd.read_csv(test_path, chunksize=chunk_size)\n",
    "\n",
    "\n",
    "for (chunks, msft_counts, label) in [(train_chunks, train_counts, \"TRAIN\"), (test_chunks, test_counts, \"TEST\")]:\n",
    "    for df in chunks:\n",
    "        df['MitreTechniques'] = df['MitreTechniques'].astype('category')\n",
    "        # Filter for rows where IncidentGrade is 'TruePositive'\n",
    "        df = df[df['IncidentGrade'] == 'TruePositive']\n",
    "        # Drop rows where MitreTechniques is null\n",
    "        df = df.dropna(subset=['MitreTechniques'])\n",
    "    \n",
    "        # Filter for rows where MitreTechniques contains any value from the 'agg_data' list\n",
    "        filtered_df = df[df['MitreTechniques'].apply(lambda x: any(technique in x for technique in agg_data.keys()))]\n",
    "\n",
    "        for tech in agg_data:\n",
    "            # Create the regex pattern to match the exact technique code (e.g., T1008)\n",
    "            pattern = r'\\b' + tech + r'\\b'\n",
    "        \n",
    "            # Count rows where MitreTechniques contains 'T1008'\n",
    "            count = df['MitreTechniques'].str.contains(pattern).sum()\n",
    "            msft_counts[tech][\"count\"] += int(count)\n",
    "\n",
    "\n",
    "# sort MSIP techniques by descending \n",
    "sortd = OrderedDict(sorted(train_counts.items(), key=lambda item: item[1]['count'], reverse=True))\n",
    "train_counts = sortd\n",
    "\n",
    "sortd = OrderedDict(sorted(test_counts.items(), key=lambda item: item[1]['count'], reverse=True))\n",
    "test_counts = sortd"
   ]
  },
  {
   "cell_type": "code",
   "execution_count": 65,
   "id": "02301b31-d319-43a5-a1a6-3b66750e6f08",
   "metadata": {},
   "outputs": [],
   "source": [
    "import os\n",
    "from itertools import islice\n",
    "from mitreattack.stix20 import MitreAttackData\n",
    "from collections import OrderedDict\n",
    "\n",
    "def create_helper_files(train_counts, test_counts, agg_mit):\n",
    "    mitre_attack_data = MitreAttackData(\"../design/attack-stix-data/enterprise-attack/enterprise-attack.json\")\n",
    "    t_lookup = mitre_attack_data.get_techniques(remove_revoked_deprecated=True)\n",
    "\n",
    "    for (label, data) in [(\"train\", train_counts), (\"test\", test_counts)]:\n",
    "        mit_count = {}\n",
    "        for tid, tech in data.items():\n",
    "            mitigations = []\n",
    "            mids = []\n",
    "            for t in t_lookup:\n",
    "                if t[\"name\"] == tech[\"name\"]:\n",
    "                    mit_tmp = mitre_attack_data.get_mitigations_mitigating_technique(t.id)\n",
    "                    for m in mit_tmp:\n",
    "                        if m[\"object\"].external_references[0].external_id not in mids:\n",
    "                            mids.append(m[\"object\"].external_references[0].external_id)\n",
    "                            mitigations.append(m)\n",
    "\n",
    "            for m in mitigations:\n",
    "                key = m[\"object\"].name\n",
    "                if key not in agg_mit:\n",
    "                     continue\n",
    "                if key not in mit_count:\n",
    "                    mit_count[key] = {\"id\": m[\"object\"].external_references[0].external_id, \"description\": m[\"object\"].description, \"techniques\": [tech[\"name\"]], \"count\": tech[\"count\"]}\n",
    "                else:\n",
    "                    mit_count[key][\"techniques\"].append(tech[\"name\"])\n",
    "                    mit_count[key][\"count\"] += tech[\"count\"]\n",
    "\n",
    "        sortd = OrderedDict(sorted(mit_count.items(), key=lambda item: item[1]['count'], reverse=True))\n",
    "        mit_count = sortd\n",
    "        with open(f\"microsoft-security-incident-prediction_v1/{label}_mit_count.json\", \"w\") as f:\n",
    "            json.dump(mit_count, f, indent=4)\n",
    "\n",
    "create_helper_files(train_counts, test_counts, agg_mit)"
   ]
  },
  {
   "cell_type": "code",
   "execution_count": 66,
   "id": "1fcd8e2f-c3b4-4d7c-810b-3b5b5da025e2",
   "metadata": {
    "scrolled": true
   },
   "outputs": [
    {
     "name": "stdout",
     "output_type": "stream",
     "text": [
      "Comparing Techniques (all)\n",
      "Comparing Money Movement Actors and MSIP train\n",
      "Spearman's rank correlation: 0.4041386889684103\n",
      "P-value: 2.2111537552360217e-07\n",
      "Comparing Money Movement Actors and MSIP test\n",
      "Spearman's rank correlation: 0.41786954016056177\n",
      "P-value: 7.686738854877323e-08\n",
      "Comparing MSIP train and MSIP test\n",
      "Spearman's rank correlation: 0.3987307841797006\n",
      "P-value: 3.309608302218478e-07\n",
      "\n",
      "Comparing Techniques (TOP 15)\n",
      "Comparing Money Movement Actors and MSIP train\n",
      "Spearman's rank correlation: -0.09999999999999999\n",
      "P-value: 0.7228973252791182\n",
      "Comparing Money Movement Actors and MSIP test\n",
      "Spearman's rank correlation: -0.035714285714285705\n",
      "P-value: 0.8994469934720875\n",
      "Comparing MSIP train and MSIP test\n",
      "Spearman's rank correlation: 0.6357142857142856\n",
      "P-value: 0.0108607461687898\n"
     ]
    }
   ],
   "source": [
    "import json\n",
    "import scipy.stats as stats\n",
    "import itertools\n",
    "from collections import OrderedDict\n",
    "\n",
    "def spearmans_rank_correlation(order, label1, list1, label2, list2):\n",
    "    ranked_list1 = [order.index(x) + 1 for x in list1]\n",
    "    ranked_list2 = [order.index(x) + 1 for x in list2]\n",
    "    # print(ranked_list1)\n",
    "    # print(ranked_list2)\n",
    "\n",
    "    # Compute Spearman's rank correlation\n",
    "    correlation, p_value = stats.spearmanr(ranked_list1, ranked_list2)\n",
    "    \n",
    "    # Print the result\n",
    "    print(f\"Comparing {label1} and {label2}\")\n",
    "    print(f\"Spearman's rank correlation: {correlation}\")\n",
    "    print(f\"P-value: {p_value}\")\n",
    "\n",
    "# comparing techniques (all)\n",
    "technique_order = list(agg_data.keys())\n",
    "to_compare = [(\"Money Movement Actors\", agg_data), (\"MSIP train\", train_counts), (\"MSIP test\", test_counts)]\n",
    "\n",
    "print(\"Comparing Techniques (all)\")\n",
    "\n",
    "for pair in itertools.combinations(to_compare, 2):\n",
    "    ((label1, data1), (label2, data2)) = pair\n",
    "    # Convert strings to ranks\n",
    "    list1 = list(data1.keys())\n",
    "    list2 = list(data2.keys())\n",
    "    spearmans_rank_correlation(technique_order, label1, list1, label2, list2)\n",
    "\n",
    "print(\"\\nComparing Techniques (TOP 15)\")\n",
    "TOP = 15\n",
    "for pair in itertools.combinations(to_compare, 2):\n",
    "    ((label1, data1), (label2, data2)) = pair\n",
    "    # Convert strings to ranks\n",
    "    list1 = list(data1.keys())[:TOP]\n",
    "    list2 = list(data2.keys())[:TOP]\n",
    "    spearmans_rank_correlation(technique_order, label1, list1, label2, list2)\n"
   ]
  },
  {
   "cell_type": "code",
   "execution_count": 67,
   "id": "d23aabef-acb7-4cdb-ac63-359656b36603",
   "metadata": {},
   "outputs": [
    {
     "name": "stdout",
     "output_type": "stream",
     "text": [
      "Comparing Mitigations (all)\n",
      "Comparing Money Movement Actors and MSIP train\n",
      "Spearman's rank correlation: 0.3259838786154575\n",
      "P-value: 0.04895524296243798\n",
      "Comparing Money Movement Actors and MSIP test\n",
      "Spearman's rank correlation: 0.31460407776197247\n",
      "P-value: 0.0579004463432323\n",
      "Comparing MSIP train and MSIP test\n",
      "Spearman's rank correlation: 0.6993835941204362\n",
      "P-value: 1.4651328416253839e-06\n",
      "\n",
      "Comparing Mitigations (TOP 15)\n",
      "Comparing Money Movement Actors and MSIP train\n",
      "Spearman's rank correlation: -0.28928571428571426\n",
      "P-value: 0.29566536100437785\n",
      "Comparing Money Movement Actors and MSIP test\n",
      "Spearman's rank correlation: -0.28571428571428564\n",
      "P-value: 0.3019363513225493\n",
      "Comparing MSIP train and MSIP test\n",
      "Spearman's rank correlation: 0.9964285714285712\n",
      "P-value: 2.4159793199703526e-15\n",
      "Money Movement Actors ['Execution Prevention', 'Behavior Prevention on Endpoint', 'Privileged Account Management', 'Disable or Remove Feature or Program', 'User Training', 'Restrict Web-Based Content', 'Software Configuration', 'Pre-compromise', 'Antivirus/Antimalware', 'Exploit Protection', 'Network Intrusion Prevention', 'Data Backup', 'Code Signing', 'Operating System Configuration', 'Restrict File and Directory Permissions']\n",
      "MSIP train ['Restrict Web-Based Content', 'User Training', 'Software Configuration', 'Audit', 'Antivirus/Antimalware', 'Network Intrusion Prevention', 'User Account Management', 'Multi-factor Authentication', 'Password Policies', 'Account Use Policies', 'Privileged Account Management', 'Behavior Prevention on Endpoint', 'Operating System Configuration', 'Execution Prevention', 'Disable or Remove Feature or Program']\n",
      "Money Movement Actors ['Execution Prevention', 'Behavior Prevention on Endpoint', 'Privileged Account Management', 'Disable or Remove Feature or Program', 'User Training', 'Restrict Web-Based Content', 'Software Configuration', 'Pre-compromise', 'Antivirus/Antimalware', 'Exploit Protection', 'Network Intrusion Prevention', 'Data Backup', 'Code Signing', 'Operating System Configuration', 'Restrict File and Directory Permissions']\n",
      "MSIP test ['User Training', 'Restrict Web-Based Content', 'Software Configuration', 'Audit', 'Antivirus/Antimalware', 'Network Intrusion Prevention', 'User Account Management', 'Multi-factor Authentication', 'Password Policies', 'Account Use Policies', 'Privileged Account Management', 'Behavior Prevention on Endpoint', 'Operating System Configuration', 'Execution Prevention', 'Disable or Remove Feature or Program']\n",
      "MSIP train ['Restrict Web-Based Content', 'User Training', 'Software Configuration', 'Audit', 'Antivirus/Antimalware', 'Network Intrusion Prevention', 'User Account Management', 'Multi-factor Authentication', 'Password Policies', 'Account Use Policies', 'Privileged Account Management', 'Behavior Prevention on Endpoint', 'Operating System Configuration', 'Execution Prevention', 'Disable or Remove Feature or Program']\n",
      "MSIP test ['User Training', 'Restrict Web-Based Content', 'Software Configuration', 'Audit', 'Antivirus/Antimalware', 'Network Intrusion Prevention', 'User Account Management', 'Multi-factor Authentication', 'Password Policies', 'Account Use Policies', 'Privileged Account Management', 'Behavior Prevention on Endpoint', 'Operating System Configuration', 'Execution Prevention', 'Disable or Remove Feature or Program']\n"
     ]
    }
   ],
   "source": [
    "\n",
    "with open(\"./microsoft-security-incident-prediction_v1/train_mit_count.json\", \"r\") as f:\n",
    "    train_mit = json.load(f)\n",
    "\n",
    "with open(\"./microsoft-security-incident-prediction_v1/test_mit_count.json\", \"r\") as f:\n",
    "    test_mit = json.load(f)\n",
    "\n",
    "sortd = OrderedDict(sorted(train_mit.items(), key=lambda item: item[1]['count'], reverse=True))\n",
    "train_mit = sortd\n",
    "\n",
    "sortd = OrderedDict(sorted(test_mit.items(), key=lambda item: item[1]['count'], reverse=True))\n",
    "test_mit = sortd\n",
    "\n",
    "# comparing mitigations (all)\n",
    "mitigation_order = list(agg_mit.keys())\n",
    "\n",
    "to_compare = [(\"Money Movement Actors\", agg_mit), (\"MSIP train\", train_mit), (\"MSIP test\", test_mit)]\n",
    "\n",
    "print(\"Comparing Mitigations (all)\")\n",
    "for pair in itertools.combinations(to_compare, 2):\n",
    "    ((label1, data1), (label2, data2)) = pair\n",
    "    # Convert strings to ranks\n",
    "    list1 = list(data1.keys())\n",
    "    list2 = list(data2.keys())\n",
    "    spearmans_rank_correlation(mitigation_order, label1, list1, label2, list2)\n",
    "\n",
    "print(\"\\nComparing Mitigations (TOP 15)\")\n",
    "TOP = 15\n",
    "for pair in itertools.combinations(to_compare, 2):\n",
    "    ((label1, data1), (label2, data2)) = pair\n",
    "    # Convert strings to ranks\n",
    "    list1 = list(data1.keys())[:TOP]\n",
    "    list2 = list(data2.keys())[:TOP]\n",
    "    spearmans_rank_correlation(mitigation_order, label1, list1, label2, list2)\n",
    "\n",
    "for pair in itertools.combinations(to_compare, 2):\n",
    "    ((label1, data1), (label2, data2)) = pair\n",
    "    list1 = list(data1.keys())[:TOP]\n",
    "    list2 = list(data2.keys())[:TOP]\n",
    "    print(label1, list1)\n",
    "    print(label2, list2)\n"
   ]
  },
  {
   "cell_type": "code",
   "execution_count": 68,
   "id": "5dc29e14-1199-48a9-8720-a5821803d6c1",
   "metadata": {},
   "outputs": [
    {
     "name": "stdout",
     "output_type": "stream",
     "text": [
      "153\n",
      "37\n"
     ]
    }
   ],
   "source": [
    "print(len(agg_data.keys()))\n",
    "print(len(agg_mit.keys()))"
   ]
  },
  {
   "cell_type": "code",
   "execution_count": null,
   "id": "e88b1e7b-8c13-46ab-a367-b7244b2f06b7",
   "metadata": {},
   "outputs": [],
   "source": []
  }
 ],
 "metadata": {
  "kernelspec": {
   "display_name": "api302",
   "language": "python",
   "name": "api302"
  },
  "language_info": {
   "codemirror_mode": {
    "name": "ipython",
    "version": 3
   },
   "file_extension": ".py",
   "mimetype": "text/x-python",
   "name": "python",
   "nbconvert_exporter": "python",
   "pygments_lexer": "ipython3",
   "version": "3.11.6"
  }
 },
 "nbformat": 4,
 "nbformat_minor": 5
}
